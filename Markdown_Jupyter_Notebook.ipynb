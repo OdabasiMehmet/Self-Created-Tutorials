{
 "cells": [
  {
   "cell_type": "markdown",
   "id": "4a4557d3",
   "metadata": {},
   "source": [
    "<img src = \"https://fwangzones.com/wp-content/uploads/2020/08/Python-1024x341.png\" >"
   ]
  },
  {
   "cell_type": "markdown",
   "id": "e04ea99e",
   "metadata": {},
   "source": [
    "><ul> \n",
    "    <a href = \"#HOW TO CREATE A HEADINGS IN JUPYTER NOTEBOOK\">\n",
    "    <li>HEADING YAPIMI</li> \n",
    "    </a>\n",
    "    <a href = \"#LISTE-YAPIMI\">\n",
    "    <li>LISTE YAPIMI</li> \n",
    "    </a>\n",
    "    <a href = \"#IMAGE-EKLEME\">\n",
    "    <li>IMAGE EKLEME</li>\n",
    "    </a>\n",
    "    <a href = \"#INDENTATION-YAPMAK\">\n",
    "    <li>INDENTATION YAPMAK</li>\n",
    "    </a>\n",
    "    <a href = \"#LINE-BREAK\">\n",
    "    <li>LINE BREAK</li>\n",
    "    </a>\n",
    "    <a href = \"#BOLD-VE-ITALIC-TEXT-YAZMA\">\n",
    "    <li>BOLD VE ITALIC TEXT YAZMA</li>\n",
    "    </a>\n",
    "    <a href = \"#CREATE-INTERNAL-LINK\">\n",
    "    <li>CREATE INTERNAL LINK</li>\n",
    "    </a>\n",
    "</ul>"
   ]
  },
  {
   "cell_type": "markdown",
   "id": "1411e410",
   "metadata": {},
   "source": [
    "# HEADING YAPIMI\n",
    "\n",
    "Hücreleri önce markdown olarak seçiyoruz.\n",
    "Heading yapmak için # işaretini kullanıyoruz.Ancak işaret ile yazı arasında bir boşluk olması gerekiyor.\n",
    "Heading 1 ile heading 6 arası başlıkların herbiri için bir # eklememiz gerekiyor\n",
    "Bir diğer opsiyon ise klasik html heading taglerini kullanmak < h1>  < /h1> gibi.\n",
    "Son olarak hücreyi run ediyoruz"
   ]
  },
  {
   "cell_type": "markdown",
   "id": "e76e5149",
   "metadata": {},
   "source": [
    "# LISTE YAPIMI\n",
    "Hücreleri önce markdown olarak seçiyoruz. Numaralı liste için < ol > bulleted liste için < ul > taglerini ve sonrasında liste elemanları için < li > taglerini kullanıyoruz.<br> Eğer liste elemanlarına hyperlink atayacaksak anchor tagleri ayrı satırda yapmamız gerekiyor. Yani ilk satırda anchor açılış tagi ve link, ikinci satırda li tagi üçüncü satırda anchor kapanış tagi şeklinde.<br> Yukarıdaki liste bu şekilde hazırlanmış olup hücre içerisine girerek kodu inceleyebilirsiniz.\n"
   ]
  },
  {
   "cell_type": "markdown",
   "id": "df6a7d84",
   "metadata": {},
   "source": [
    "# IMAGE EKLEME\n",
    "Hücreleri önce markdown olarak seçiyoruz.\n",
    "Hücrelere image eklemek için HTML img tag ini kullanıyoruz.\n",
    "Tag içerisine image url sini ekliyoruz.\n",
    "Son olarak hücreyi run ediyoruz."
   ]
  },
  {
   "cell_type": "markdown",
   "id": "3a9186e4",
   "metadata": {},
   "source": [
    " <img src = \"https://www.python.org/static/img/python-logo.png\" width= \"600\" height= \"400\">\n",
    "           "
   ]
  },
  {
   "cell_type": "markdown",
   "id": "bfec6cac",
   "metadata": {},
   "source": [
    "# INDENTATION YAPMAK\n",
    "> Hücreye eğer birden fazla satır yazacaksak ve sonraki satır indented olarak başlasın istiyorsak > işaretini kullanıyoruz.Son olarak hücreyi run ediyoruz."
   ]
  },
  {
   "cell_type": "markdown",
   "id": "e77368e7",
   "metadata": {},
   "source": [
    "# LINE BREAK\n",
    "Hücreleri önce markdown olarak seçiyoruz. Line break koymak istediğimiz alana < br > tag ini ekliyoruz.<br> Bu şekilde bir alt satıra geçiyor <br>Son olarak hücreyi run ediyoruz.\n"
   ]
  },
  {
   "cell_type": "markdown",
   "id": "f364097c",
   "metadata": {},
   "source": [
    "# BOLD VE ITALIC TEXT YAZMA\n",
    "Hücreleri önce markdown olarak seçiyoruz.Bold yapmak istediğimiz textin başına ve sonuna ikişer yıldız koyuyoruz. **bold** gibi.Italic yazı yazmak için ise birer yıldız koyuyoruz.*italic* gibi.Son olarak hücreyi run ediyoruz."
   ]
  },
  {
   "cell_type": "markdown",
   "id": "c803a0c1",
   "metadata": {},
   "source": [
    "# HORIZONTAL LINE EKLEME\n",
    "Hücreleri önce markdown olarak seçiyoruz.Horizontal line eklemek istediğimiz yere üç adet alt çizgi giriyoruz.\n",
    "___\n",
    "Son olarak hücreyi run ediyoruz\n",
    "___\n"
   ]
  },
  {
   "cell_type": "markdown",
   "id": "151a13b3",
   "metadata": {},
   "source": [
    "# CREATE INTERNAL LINK\n",
    "Hücreleri önce markdown olarak seçiyoruz.Link verebilmek için anchor tag < a > kullanıyoruz.<br> Burada dikkat etmemiz gereken husus href ibaresinden sonra yazılan yazılar arasında eğer boşluk varsa onu - hypen ile doldurmak. Mesela HEADING YAPIMI başlığı için HEADING-YAPIMI şeklinde yazmak.<br>\n",
    "<a href=\"#HEADING-YAPIMI\"> Başa dön </a>"
   ]
  }
 ],
 "metadata": {
  "kernelspec": {
   "display_name": "Python 3",
   "language": "python",
   "name": "python3"
  },
  "language_info": {
   "codemirror_mode": {
    "name": "ipython",
    "version": 3
   },
   "file_extension": ".py",
   "mimetype": "text/x-python",
   "name": "python",
   "nbconvert_exporter": "python",
   "pygments_lexer": "ipython3",
   "version": "3.8.8"
  }
 },
 "nbformat": 4,
 "nbformat_minor": 5
}
